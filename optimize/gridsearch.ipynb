{
 "cells": [
  {
   "cell_type": "code",
   "execution_count": 1,
   "metadata": {},
   "outputs": [],
   "source": [
    "import sys\n",
    "import matplotlib.pyplot as plt\n",
    "import numpy as np\n",
    "import pandas as pd\n",
    "import h5py \n",
    "import json\n",
    "import copy\n",
    "from collections import OrderedDict\n",
    "from lmfit import Model\n",
    "\n",
    "from pygama.pargen.dsp_optimize import run_one_dsp\n",
    "from pygama.pargen.dsp_optimize import run_grid\n",
    "from pygama.pargen.dsp_optimize import ParGrid\n",
    "from pygama.lgdo.lh5_store import LH5Store\n",
    "import pygama.math.histogram as pgh\n",
    "import pygama.math.peak_fitting as pgf\n",
    "\n",
    "\n",
    "sys.path.insert(1, '../analysis/')\n",
    "import processes.foundation as fd\n",
    "import processes.fitModel as fM\n",
    "import processes.histogramAction as hA\n",
    "\n",
    "\n",
    "sto = LH5Store(\"../data/raw/\")"
   ]
  },
  {
   "cell_type": "code",
   "execution_count": 2,
   "metadata": {},
   "outputs": [],
   "source": [
    "debug = False\n",
    "\n",
    "hi = 125\n",
    "lo = 117\n",
    "\n",
    "runs = [x for x in range(8931,8998)]\n",
    "f_wfs = 'opt/Run17.lh5'\n",
    "\n",
    "nevts = 150\n",
    "\n",
    "for i,run in enumerate(runs):\n",
    "\n",
    "    t2_data = fd.get_df(run, 'Card1')\n",
    "    m = 0.040862505104599725\n",
    "    c = -0.1689243143849808\n",
    "\n",
    "    t2_data[\"trapEmax\"] = m*t2_data[\"trapEmax\"] + c\n",
    "    \n",
    "    ecuthi = t2_data[\"trapEmax\"] < hi \n",
    "    ecutlo = t2_data[\"trapEmax\"] > lo\n",
    "\n",
    "    filter_idx = np.asarray(t2_data.index[ecuthi&ecutlo].tolist())\n",
    "    slim_filter = np.random.choice(filter_idx, nevts)\n",
    "    slim_filter = np.unique(slim_filter)\n",
    "\n",
    "    runstr = \"Run\"+str(run)+\".lh5\"\n",
    "\n",
    "    tb_in = 'Card1'\n",
    "\n",
    "    tb_wfs, nwfs = sto.read_object('Card1/',[runstr],idx=slim_filter)\n",
    "    sto.write_object(tb_wfs, f'{tb_in}', f_wfs,wo_mode='a')\n"
   ]
  },
  {
   "cell_type": "code",
   "execution_count": 3,
   "metadata": {},
   "outputs": [],
   "source": [
    "conf_file = \"dspConfig.json\"\n",
    "with open(conf_file) as f:\n",
    "    dsp_config = json.load(f, object_pairs_hook=OrderedDict)\n",
    "\n",
    "dsp_db = {}\n",
    "dsp_db['etrap'] = {\"rise\":\"10*us\", \"flat\":\"2*us\"}"
   ]
  },
  {
   "cell_type": "code",
   "execution_count": 4,
   "metadata": {},
   "outputs": [],
   "source": [
    "optSto = LH5Store(\"../data/raw/opt\")\n",
    "tb_wfs, nwfs = optSto.read_object('Card1/',\"Run17.lh5\")\n",
    "tb_out = run_one_dsp(tb_wfs, dsp_config, db_dict=dsp_db, verbosity=True)\n"
   ]
  },
  {
   "cell_type": "code",
   "execution_count": 25,
   "metadata": {},
   "outputs": [
    {
     "name": "stdout",
     "output_type": "stream",
     "text": [
      "6906\n"
     ]
    },
    {
     "data": {
      "image/png": "[encoded data removed]",
      "text/plain": [
       "<Figure size 432x288 with 1 Axes>"
      ]
     },
     "metadata": {
      "needs_background": "light"
     },
     "output_type": "display_data"
    }
   ],
   "source": [
    "m = 0.040862505104599725\n",
    "b = -0.1689243143849808\n",
    "calib = m*tb_out['trapEmax'].nda + b\n",
    "plt.hist(calib,bins=300);\n",
    "plt.xlim(115,130)\n",
    "plt.yscale('linear')\n",
    "\n",
    "print(len(calib))"
   ]
  },
  {
   "cell_type": "code",
   "execution_count": 75,
   "metadata": {},
   "outputs": [],
   "source": [
    "# TODO \n",
    "# turn James's fit_peak into a fom\n",
    "# pass fit_peak to run_on\n",
    "\n",
    "def peak_width(tb, verbosity, make_plot=False):\n",
    "\n",
    "    m = 0.040862505104599725\n",
    "    b = -0.1689243143849808\n",
    "    calib = m*tb['trapEmax'].nda + b\n",
    "\n",
    "    binning = np.linspace(115,125,num=300)\n",
    "    \n",
    "    energy = copy.deepcopy(calib)\n",
    "    #counts, bins, bars = plt.hist(energy, histtype='step', bins=100000)\n",
    "    counts, bins = np.histogram(energy,bins=binning)\n",
    "\n",
    "    lower = hA.find_nearest_bin(bins,115)\n",
    "    upper = hA.find_nearest_bin(bins,125)\n",
    "    ydata = counts[lower:upper]\n",
    "    xdata = bins[lower:upper]\n",
    "\n",
    "    gmodel = Model(fM.lingaus)\n",
    "    i = np.argmax(ydata)\n",
    "    #params = gmodel.make_params(A=700, m1=315.5, s1=0.5, H_tail=-0.000001, H_step=1, tau=-0.5, slope=-6, intrcpt=180)\n",
    "    params = gmodel.make_params(a1=1000, m1=xdata[i], s1=0.1, slope=-0.046, intrcpt=0)\n",
    "    #params['s1'].vary = False\n",
    "    result = gmodel.fit(ydata,params, x=xdata)\n",
    "\n",
    "    sigma = result.params['s1'].value\n",
    "    fw = 2.355*sigma\n",
    "    energy = result.params['m1'].value\n",
    "\n",
    "    \n",
    "    \n",
    "    if make_plot:\n",
    "        print(fw)\n",
    "        print(result.fit_report())\n",
    "        plt.hist(calib, histtype='step', bins=binning)\n",
    "        #plt.xlim(115, 125)\n",
    "        #plt.ylim(0,00)\n",
    "        plt.xlabel(\"Energy [keV]\")\n",
    "        plt.plot(xdata, result.best_fit, 'r-', label='best fit')\n",
    "        plt.title(\"Fit of 1724 Pulser FWHM\")\n",
    "        plt.show()\n",
    "\n",
    "    return fw"
   ]
  },
  {
   "cell_type": "code",
   "execution_count": 83,
   "metadata": {},
   "outputs": [],
   "source": [
    "rise_arr = np.linspace(15,25,5)\n",
    "flat_arr = np.linspace(0,20,5)\n",
    "\n",
    "rr, ff = np.meshgrid(rise_arr, flat_arr)\n",
    "zz = np.zeros_like(rr)\n",
    "\n",
    "\n",
    "for i,rise in enumerate(rise_arr):\n",
    "    for j,flat in enumerate(flat_arr):\n",
    "        flat_units = str(flat)+'*us'\n",
    "        rise_units = str(rise)+'*us'\n",
    "        args = ['wf_mw',rise_units,flat_units,'wf_trap']\n",
    "        dsp_config['processors']['wf_trap']['args'] = args\n",
    "\n",
    "        fom = run_one_dsp(tb_wfs, dsp_config,fom_function=peak_width, verbosity=True)\n",
    "\n",
    "        zz[i,j] = fom\n",
    "\n",
    "\n",
    "\n"
   ]
  },
  {
   "cell_type": "code",
   "execution_count": 85,
   "metadata": {},
   "outputs": [
    {
     "data": {
      "text/plain": [
       "Text(33.0, 0.5, 'flat time [us]')"
      ]
     },
     "execution_count": 85,
     "metadata": {},
     "output_type": "execute_result"
    },
    {
     "data": {
      "image/png": "[encoded data removed]",
      "text/plain": [
       "<Figure size 432x288 with 2 Axes>"
      ]
     },
     "metadata": {
      "needs_background": "light"
     },
     "output_type": "display_data"
    }
   ],
   "source": [
    "import seaborn as sns\n",
    "sns.set_theme\n",
    "\n",
    "x_axis_labels = rise_arr\n",
    "y_axis_labels = flat_arr\n",
    "\n",
    "ax = sns.heatmap(zz,vmin=0.5,vmax=0.75,linewidths=0.5,cmap=\"YlGnBu\",xticklabels=x_axis_labels,yticklabels=y_axis_labels)\n",
    "ax.set_xlabel('rise time [us]')\n",
    "ax.set_ylabel('flat time [us]')\n"
   ]
  },
  {
   "cell_type": "code",
   "execution_count": 86,
   "metadata": {},
   "outputs": [
    {
     "data": {
      "text/plain": [
       "array([[0.65985367, 0.62757357, 0.61536467, 0.6096737 , 0.62770978],\n",
       "       [0.66009115, 0.62409992, 0.61197224, 0.61915409, 0.62882018],\n",
       "       [0.65282971, 0.6188371 , 0.615222  , 0.62631445, 0.63715769],\n",
       "       [0.6350284 , 0.61684482, 0.62422735, 0.63135812, 0.6421066 ],\n",
       "       [0.62391004, 0.62324805, 0.63472141, 0.63423118, 0.64886411]])"
      ]
     },
     "execution_count": 86,
     "metadata": {},
     "output_type": "execute_result"
    }
   ],
   "source": [
    "zz"
   ]
  },
  {
   "cell_type": "code",
   "execution_count": 90,
   "metadata": {},
   "outputs": [],
   "source": [
    "flat_units = str(15)+'*us'\n",
    "rise_units = str(15)+'*us'\n",
    "args = ['wf_mw',rise_units,flat_units,'wf_trap']\n",
    "dsp_config['processors']['wf_trap']['args'] = args\n",
    "\n",
    "\n",
    "optSto = LH5Store(\"../data/raw/opt\")\n",
    "tb_wfs, nwfs = optSto.read_object('Card1/',\"Run17.lh5\")\n",
    "tb_out = run_one_dsp(tb_wfs, dsp_config, db_dict=dsp_db, verbosity=True)"
   ]
  },
  {
   "cell_type": "code",
   "execution_count": 91,
   "metadata": {},
   "outputs": [
    {
     "data": {
      "image/png": "[encoded data removed]",
      "text/plain": [
       "<Figure size 432x288 with 1 Axes>"
      ]
     },
     "metadata": {
      "needs_background": "light"
     },
     "output_type": "display_data"
    }
   ],
   "source": [
    "m = 0.040862505104599725\n",
    "b = -0.1689243143849808\n",
    "calib = m*tb_out['trapEmax'].nda + b\n",
    "plt.hist(calib,bins=300);\n",
    "plt.xlim(115,125)\n",
    "plt.yscale('linear')"
   ]
  },
  {
   "cell_type": "code",
   "execution_count": 92,
   "metadata": {},
   "outputs": [
    {
     "name": "stdout",
     "output_type": "stream",
     "text": [
      "0.60967370093961\n",
      "[[Model]]\n",
      "    Model(lingaus)\n",
      "[[Fit Statistics]]\n",
      "    # fitting method   = leastsq\n",
      "    # function evals   = 43\n",
      "    # data points      = 299\n",
      "    # variables        = 5\n",
      "    chi-square         = 38935.5700\n",
      "    reduced chi-square = 132.433911\n",
      "    Akaike info crit   = 1465.89676\n",
      "    Bayesian info crit = 1484.39898\n",
      "[[Variables]]\n",
      "    a1:       133.715106 +/- 3.86429073 (2.89%) (init = 1000)\n",
      "    m1:       122.207563 +/- 0.00851300 (0.01%) (init = 122.1237)\n",
      "    s1:       0.25888480 +/- 0.00889579 (3.44%) (init = 0.1)\n",
      "    slope:    1.57515483 +/- 0.24251040 (15.40%) (init = -0.046)\n",
      "    intrcpt: -180.264704 +/- 29.0199446 (16.10%) (init = 0)\n",
      "[[Correlations]] (unreported correlations are < 0.100)\n",
      "    C(slope, intrcpt) = -1.000\n",
      "    C(a1, s1)         = -0.493\n",
      "    C(s1, slope)      = -0.193\n",
      "    C(s1, intrcpt)    = 0.187\n",
      "    C(a1, slope)      = -0.114\n",
      "    C(a1, intrcpt)    = 0.111\n"
     ]
    },
    {
     "data": {
      "image/png": "[encoded data removed]",
      "text/plain": [
       "<Figure size 432x288 with 1 Axes>"
      ]
     },
     "metadata": {
      "needs_background": "light"
     },
     "output_type": "display_data"
    },
    {
     "data": {
      "text/plain": [
       "0.60967370093961"
      ]
     },
     "execution_count": 92,
     "metadata": {},
     "output_type": "execute_result"
    }
   ],
   "source": [
    "peak_width(tb_out,1,True)"
   ]
  },
  {
   "cell_type": "code",
   "execution_count": null,
   "metadata": {},
   "outputs": [],
   "source": []
  }
 ],
 "metadata": {
  "kernelspec": {
   "display_name": "Python 3.9.12 ('base')",
   "language": "python",
   "name": "python3"
  },
  "language_info": {
   "codemirror_mode": {
    "name": "ipython",
    "version": 3
   },
   "file_extension": ".py",
   "mimetype": "text/x-python",
   "name": "python",
   "nbconvert_exporter": "python",
   "pygments_lexer": "ipython3",
   "version": "3.9.12"
  },
  "orig_nbformat": 4,
  "vscode": {
   "interpreter": {
    "hash": "38cca0c38332a56087b24af0bc80247f4fced29cb4f7f437d91dc159adec9c4e"
   }
  }
 },
 "nbformat": 4,
 "nbformat_minor": 2
}
