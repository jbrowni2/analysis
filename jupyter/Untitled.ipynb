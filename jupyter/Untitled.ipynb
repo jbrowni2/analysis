{
 "cells": [
  {
   "cell_type": "code",
   "execution_count": 1,
   "id": "47e70919",
   "metadata": {},
   "outputs": [],
   "source": [
    "import sys\n",
    "import os\n",
    "sys.path.insert(0, 'c:\\\\Users\\\\James\\\\analysis')"
   ]
  },
  {
   "cell_type": "code",
   "execution_count": 2,
   "id": "f293a6b5",
   "metadata": {
    "scrolled": true
   },
   "outputs": [],
   "source": [
    "import processes"
   ]
  },
  {
   "cell_type": "code",
   "execution_count": null,
   "id": "a31b296f",
   "metadata": {},
   "outputs": [],
   "source": []
  }
 ],
 "metadata": {
  "kernelspec": {
   "display_name": "Python 3 (ipykernel)",
   "language": "python",
   "name": "python3"
  },
  "language_info": {
   "codemirror_mode": {
    "name": "ipython",
    "version": 3
   },
   "file_extension": ".py",
   "mimetype": "text/x-python",
   "name": "python",
   "nbconvert_exporter": "python",
   "pygments_lexer": "ipython3",
   "version": "3.9.7"
  }
 },
 "nbformat": 4,
 "nbformat_minor": 5
}
